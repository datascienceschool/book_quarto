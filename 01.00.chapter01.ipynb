{
 "cells": [
  {
   "cell_type": "markdown",
   "metadata": {},
   "source": [
    "# 1장 콰르토의 소개"
   ]
  },
  {
   "cell_type": "markdown",
   "metadata": {},
   "source": [
    "이 장에서는 콰트로 프로그램을 설치하고 기본적인 기능을 소개한다."
   ]
  },
  {
   "cell_type": "markdown",
   "metadata": {},
   "source": [
    "## 학습 목표"
   ]
  },
  {
   "cell_type": "markdown",
   "metadata": {},
   "source": [
    "- 콰트로 프로그램의 기능을 소개한다. \n",
    "- 콰트로를 설치한다.\n",
    "- 명령줄에서 콰트로 프로그램을 사용하는 방법을 익힌다.\n",
    "- VS Code 프로그램에서 콰트로 확장 기능을 사용하는 방법을 익힌다."
   ]
  }
 ],
 "metadata": {
  "language_info": {
   "name": "python"
  }
 },
 "nbformat": 4,
 "nbformat_minor": 2
}
