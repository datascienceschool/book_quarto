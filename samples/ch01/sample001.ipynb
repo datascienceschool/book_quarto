{
  "cells": [
    {
      "cell_type": "markdown",
      "metadata": {},
      "source": [
        "# 마크다운 대제목\n",
        "\n",
        "## 마크다운 중제목\n",
        "\n",
        "### 마크다운 소제목\n",
        "\n",
        "내용입니다.\n",
        "내용입니다.\n",
        "내용입니다.\n",
        "내용입니다."
      ]
    }
  ],
  "metadata": {
    "kernelspec": {
      "name": "python3",
      "language": "python",
      "display_name": "Python 3 (ipykernel)",
      "path": "/Users/joelkim/miniforge3/share/jupyter/kernels/python3"
    }
  },
  "nbformat": 4,
  "nbformat_minor": 4
}