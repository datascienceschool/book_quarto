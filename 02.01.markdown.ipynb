{
 "cells": [
  {
   "cell_type": "markdown",
   "metadata": {},
   "source": [
    "# 콰르토 마크다운 기본문법"
   ]
  },
  {
   "cell_type": "markdown",
   "metadata": {},
   "source": [
    "## 글자 스타일"
   ]
  },
  {
   "cell_type": "markdown",
   "metadata": {},
   "source": [
    "글자 스타일을 바꿀 때는 단어의 앞과 뒤에 별표(`*`)를 붙인다. 별표의 개수에 따라 스타일이 달라진다."
   ]
  },
  {
   "cell_type": "markdown",
   "metadata": {},
   "source": [
    "{{< partial mdsample.qmd filename=\"samples/ch02/sample_02_01.qmd\" ncol=2 >}}"
   ]
  },
  {
   "cell_type": "markdown",
   "metadata": {},
   "source": [
    "## 제목"
   ]
  },
  {
   "cell_type": "markdown",
   "metadata": {},
   "source": [
    "첫줄에 `#` 기호를 쓰면 제목이 된다. `#` 기호가 1개 인 경우 1 단계 제목이 되고 `#` 기호가 증가할수록 단계가 올라간다."
   ]
  },
  {
   "cell_type": "markdown",
   "metadata": {},
   "source": [
    "{{< partial mdsample.qmd filename=\"samples/ch02/sample_02_04.qmd\" ncol=2 >}}"
   ]
  },
  {
   "cell_type": "markdown",
   "metadata": {},
   "source": [
    "## 하이퍼링크"
   ]
  },
  {
   "cell_type": "markdown",
   "metadata": {},
   "source": [
    "단순한 하이퍼링크는 인터넷주소(URL)을 `<` 기호와 `>` 기호로 둘러싼다. \n",
    "실제 링크 주소와 표기가 다른 경우에는 `[표기](실제 링크 주소)` 형식을 사용한다.\n",
    "링크 뒤에 `{}`를 덧붙여서 `target` 등의 추가적인 속성을 넣을 수 있다."
   ]
  },
  {
   "cell_type": "markdown",
   "metadata": {},
   "source": [
    "{{< partial mdsample.qmd filename=\"samples/ch02/sample_02_05.qmd\" ncol=1 >}}"
   ]
  },
  {
   "cell_type": "markdown",
   "metadata": {},
   "source": []
  }
 ],
 "metadata": {
  "language_info": {
   "name": "python"
  }
 },
 "nbformat": 4,
 "nbformat_minor": 2
}
