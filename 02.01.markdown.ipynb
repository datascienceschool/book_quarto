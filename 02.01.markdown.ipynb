{
 "cells": [
  {
   "cell_type": "markdown",
   "metadata": {},
   "source": [
    "# 콰르토 마크다운 기본문법"
   ]
  },
  {
   "cell_type": "markdown",
   "metadata": {},
   "source": [
    "콰르토의 마크다운 문법은 Pandoc 마크다운 문법으로 일반적으로 사용되는 마크다운과는 일부 문법이 다르므로 주의해야 한다."
   ]
  },
  {
   "cell_type": "markdown",
   "metadata": {},
   "source": [
    "## 글자 강조"
   ]
  },
  {
   "cell_type": "markdown",
   "metadata": {},
   "source": [
    "글자를 강조할 때는 단어의 앞과 뒤에 별 기호(`*`) 또는 밑줄 기호(`_`)를 붙인다. 기호의 개수에 따라 강조 스타일이 달라진다."
   ]
  },
  {
   "cell_type": "markdown",
   "metadata": {},
   "source": [
    "{{< partial mdsample.qmd filename=\"samples/ch02/sample_02_01.qmd\" ncol=2 >}}"
   ]
  },
  {
   "cell_type": "markdown",
   "metadata": {},
   "source": [
    "## 첨자"
   ]
  },
  {
   "cell_type": "markdown",
   "metadata": {},
   "source": [
    "윗첨자와 아랫첨자는 각각 `^` 기호와 `~` 기호로 둘러싼다. \n",
    "`^` 기호나 `~` 기호 사이의 첨자는 기본적으로 공백이 없어야 한다.\n",
    "공백이 필요한 경우에는 공백 앞에 백슬래시 기호 `\\`를 붙여야 한다."
   ]
  },
  {
   "cell_type": "markdown",
   "metadata": {},
   "source": [
    "{{< partial mdsample.qmd filename=\"samples/ch02/sample_02_02.qmd\" ncol=2 >}}"
   ]
  },
  {
   "cell_type": "markdown",
   "metadata": {},
   "source": [
    "## 줄"
   ]
  },
  {
   "cell_type": "markdown",
   "metadata": {},
   "source": [
    "글자에 아래에 밑줄을 표시하려면 해당 부분을 대괄호 기호(`[`, `]`)로 감싸고 바로 뒤에 `{.underline}`라는 스타일 표시를 추가한다.\n",
    "형광펜(하이라이트) 효과를 위해서는 해당 부분을 대괄호 기호(`[`, `]`)로 감싸고 바로 뒤에 `{.mark}`라는 스타일 표시를 추가한다.\n",
    "글자의 가운데에 취소선을 표시하려면 `~~` 기호로 둘러싼다.\n"
   ]
  },
  {
   "cell_type": "markdown",
   "metadata": {},
   "source": [
    "{{< partial mdsample.qmd filename=\"samples/ch02/sample_02_03.qmd\" ncol=2 >}}"
   ]
  },
  {
   "cell_type": "markdown",
   "metadata": {},
   "source": [
    "## 그대로 표시"
   ]
  },
  {
   "cell_type": "markdown",
   "metadata": {},
   "source": [
    "기호나 소스 코드의 변수명 등을 그대로 표시하려면 백틱(backtick) 기호(`)를 사용한다."
   ]
  },
  {
   "cell_type": "markdown",
   "metadata": {},
   "source": [
    "{{< partial mdsample.qmd filename=\"samples/ch02/sample_02_04.qmd\" ncol=2 >}}"
   ]
  },
  {
   "cell_type": "markdown",
   "metadata": {},
   "source": [
    "## 하이퍼링크"
   ]
  },
  {
   "cell_type": "markdown",
   "metadata": {},
   "source": [
    "단순한 하이퍼링크(hyperlink)는 인터넷주소(URL)을 `<` 기호와 `>` 기호로 둘러싼다. \n",
    "실제 링크 주소와 표기가 다른 경우에는 `[표기](실제 링크 주소)` 형식을 사용한다.\n",
    "링크 뒤에 `{}`를 덧붙여서 `target` 등의 추가적인 속성을 넣을 수 있다."
   ]
  },
  {
   "cell_type": "markdown",
   "metadata": {},
   "source": [
    "{{< partial mdsample.qmd filename=\"samples/ch02/sample_02_05.qmd\" ncol=1 >}}"
   ]
  },
  {
   "cell_type": "markdown",
   "metadata": {},
   "source": [
    "## 제목"
   ]
  },
  {
   "cell_type": "markdown",
   "metadata": {},
   "source": [
    "첫줄에 `#` 기호를 쓰면 제목이 된다. `#` 기호가 1개 인 경우 1 단계 제목이 되고 `#` 기호가 증가할수록 단계가 올라간다."
   ]
  },
  {
   "cell_type": "markdown",
   "metadata": {},
   "source": [
    "{{< partial mdsample.qmd filename=\"samples/ch02/sample_02_06.qmd\" ncol=2 >}}"
   ]
  },
  {
   "cell_type": "markdown",
   "metadata": {},
   "source": [
    "## 번호 없는 목록"
   ]
  },
  {
   "cell_type": "markdown",
   "metadata": {},
   "source": [
    "번호 없는 목록을 표시할 때는 `-`, `+`, `*` 기호를 사용한다.\n",
    "두 칸 이상 들여쓰기를 하면 목록 수준을 바꾼다.\n",
    "세가지 기호 중 아무것이나 섞어서 사용해도 되지만 같은 수준의 이웃 목록 기호는 같은 것을 사용해야 한다. "
   ]
  },
  {
   "cell_type": "markdown",
   "metadata": {},
   "source": [
    "{{< partial mdsample.qmd filename=\"samples/ch02/sample_02_07.qmd\" ncol=2 >}}"
   ]
  },
  {
   "cell_type": "markdown",
   "metadata": {},
   "source": [
    "## 번호 있는 목록"
   ]
  },
  {
   "cell_type": "markdown",
   "metadata": {},
   "source": [
    "번호 있는 목록을 표시할 때는 숫자 또는 `#` 기호의 뒤에 마침표(`.`) 또는 닫는 소괄호(`)`)를 붙이거나 앞뒤로 소괄호를 붙인다.\n",
    "실제 목록의 숫자는 코드의 숫자와 아무런 관계없이 순서대로 매겨진다.\n",
    "\n",
    "번호를 다시 시작하려면 사이에 하나의 문단이 있어야 한다."
   ]
  },
  {
   "cell_type": "markdown",
   "metadata": {},
   "source": [
    "{{< partial mdsample.qmd filename=\"samples/ch02/sample_02_08.qmd\" ncol=2 >}}"
   ]
  },
  {
   "cell_type": "markdown",
   "metadata": {},
   "source": [
    "## 각주"
   ]
  },
  {
   "cell_type": "markdown",
   "metadata": {},
   "source": [
    "문장에 있는 각주(footnote)는 `[^주석숫자]`의 형태로 사용한다. 문장내에서는 각주 표시만 하고 나중에 다음과 같이 각주의 내용을 덧붙이면 페이지 하단에 각주가 생성된다. 주석숫자는 주석에 대한 이름 역할만 할 뿐이며 실제 주석에 표시되는 숫자는 주석숫자와 상관없이 순서대로 매겨진다.\n"
   ]
  },
  {
   "cell_type": "markdown",
   "metadata": {},
   "source": [
    "{{< partial mdsample.qmd filename=\"samples/ch02/sample_02_09.qmd\" ncol=1 >}}"
   ]
  }
 ],
 "metadata": {
  "language_info": {
   "name": "python"
  }
 },
 "nbformat": 4,
 "nbformat_minor": 2
}
