{
 "cells": [
  {
   "cell_type": "markdown",
   "metadata": {},
   "source": [
    "# 기초적인 마크다운"
   ]
  },
  {
   "cell_type": "markdown",
   "metadata": {},
   "source": [
    "```{.markdown filename=\"sample001.qmd 원문\"}\n",
    "{{< include sample001.qmd >}}\n",
    "```\n"
   ]
  },
  {
   "cell_type": "markdown",
   "metadata": {},
   "source": [
    "::: {.code-with-filename}\n",
    ":::: {style=\"background-color: lightgray; padding: 2em;\"}\n",
    "{{< include sample001.qmd >}}\n",
    "::::\n",
    ":::"
   ]
  },
  {
   "cell_type": "markdown",
   "metadata": {},
   "source": []
  }
 ],
 "metadata": {
  "language_info": {
   "name": "python"
  }
 },
 "nbformat": 4,
 "nbformat_minor": 2
}
