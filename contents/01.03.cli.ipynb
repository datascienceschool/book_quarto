{
 "cells": [
  {
   "cell_type": "markdown",
   "metadata": {},
   "source": [
    "# 콰르토 사용법"
   ]
  },
  {
   "cell_type": "markdown",
   "metadata": {},
   "source": [
    "콰르토는 별도의 실행화면을 가진 애플리케이션이 아니라 터미널 또는 명령어 창에서 실행하는 명령어(command line) 프로그램이다.\n",
    "\n",
    "콰르토 명령 방식은 `quarto` 키워드 + `서브명령` + `인수` + `옵션` 형식으로 구성된다.\n",
    "\n",
    "예를 들어 `sample.qmd` 파일을 `sample.html` 파일로 변환하려면 다음 명령을 실행하면 된다.\n",
    "\n",
    "```bash\n",
    "quarto convert sample.qmd --to html \n",
    "```\n",
    "\n",
    "위 명령에서 `quarto`는 콰르토 프로그램을 실행하는 키워드이고 `convert`는 변환을 실행하라는 서브명령, `sample.qmd`는 변환 대상이 되는 파일을 지정하는 인수, `--to html`는 HTML 형식으로 변환하라는 옵션이다."
   ]
  },
  {
   "cell_type": "markdown",
   "metadata": {},
   "source": []
  }
 ],
 "metadata": {
  "language_info": {
   "name": "python"
  }
 },
 "nbformat": 4,
 "nbformat_minor": 2
}
