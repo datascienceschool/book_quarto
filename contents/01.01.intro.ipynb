{
 "cells": [
  {
   "cell_type": "markdown",
   "metadata": {},
   "source": [
    "# 콰르토 소개"
   ]
  },
  {
   "cell_type": "markdown",
   "metadata": {},
   "source": [
    "콰르토(quarto)는 콰르토 마크다운 파일(`.qmd` 확장자) 또는 주피터 노트북 파일(`.ipynb` 확장자)을 pdf, MS워드, MS파워포인트 등 다양한 형식의 문서 파일이나 html 파일로 구성된 정적 웹사이트로 변환하는 프로그램이다.\n"
   ]
  },
  {
   "cell_type": "markdown",
   "metadata": {},
   "source": [
    "콰르토의 가장 큰 특징은 입력 파일에 포함된 파이썬 또는 R 코드를 실행하고 실행 결과를 출력문서에 원하는 방식으로 포함할 수 있다는 점이다."
   ]
  },
  {
   "cell_type": "markdown",
   "metadata": {},
   "source": []
  },
  {
   "cell_type": "markdown",
   "metadata": {},
   "source": []
  }
 ],
 "metadata": {
  "language_info": {
   "name": "python"
  }
 },
 "nbformat": 4,
 "nbformat_minor": 2
}
