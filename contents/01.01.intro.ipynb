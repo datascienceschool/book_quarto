{
 "cells": [
  {
   "cell_type": "markdown",
   "metadata": {},
   "source": [
    "# 콰르토 소개"
   ]
  },
  {
   "cell_type": "markdown",
   "metadata": {},
   "source": [
    "## 문서형식 변환"
   ]
  },
  {
   "cell_type": "markdown",
   "metadata": {},
   "source": [
    "콰르토(quarto)는 `.qmd` 확장자를 가지는 '콰르토 마크다운 파일' 또는 `.ipynb` 확장자를 가지는 '주피터 노트북 파일'을 html 파일이나 pdf, MS워드, MS파워포인트 등 다양한 형식의 문서 파일로 변환하는 문서 변환 프로그램이다.\n"
   ]
  },
  {
   "cell_type": "markdown",
   "metadata": {},
   "source": [
    "## 정적 웹 사이트 생성기"
   ]
  },
  {
   "cell_type": "markdown",
   "metadata": {},
   "source": [
    "콰르토는 HTML 파일도 생성할 수 있으므로 동적인 웹 애플리케이션이 아니라 순수 HTML 파일로 구성된 정적 웹사이트(static website)를 생성하는 도구로 많이 사용된다. 단순히 마크다운 파일을 웹사이트로 만드는 일반적인 정적 웹사이트 생성기는 콰르토 이외에도 다음과 같은 여러가지 프로그램이 존재한다.\n",
    "\n",
    "- 지킬(Jekyll)\n",
    "- 휴고(Hugo)\n",
    "- 도큐사우르스(Docusaurus)\n",
    "\n",
    "이러한 이러한 정적 웹사이트 생성기와 비교하여 콰르토가 가지는 장점은 입력 파일에 포함된 파이썬 또는 R 등의 프로그램 코드를 실행하고 실행 결과를 출력문서에 원하는 방식으로 포함할 수 있다는 점이다. 따라서 소프트웨어 사용이나 개발과 관련된 문서를 제작하는데 많이 사용된다."
   ]
  }
 ],
 "metadata": {
  "language_info": {
   "name": "python"
  }
 },
 "nbformat": 4,
 "nbformat_minor": 2
}
