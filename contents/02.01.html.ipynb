{
 "cells": [
  {
   "cell_type": "markdown",
   "metadata": {},
   "source": [
    "# HTML 파일 생성"
   ]
  },
  {
   "cell_type": "markdown",
   "metadata": {},
   "source": [
    "가장 많이 사용되는 콰르토 활용 방법은 `.qmd` 확장자를 가지는 콰르토 마크다운 문서를 HTML 문서로 변환하는 것이다.\n",
    "\n",
    "예를 들어 다음과 같은 `sample001.qmd` 파일이 있다고 하자.\n",
    "```{.markdown filename=\"sample001.qmd 원문\"}\n",
    "{{< include ../samples/ch01/sample001.qmd >}}\n",
    "```\n",
    "`quarto render` 명령과 `--to html` 옵션을 사용하면 `sample001.qmd` 파일이 있는 디렉토리에 `sample.html` 파일을 생성할 수 있다.\n",
    "```bash\n",
    "quarto convert ch01/sample001.qmd --to html\n",
    "```"
   ]
  },
  {
   "cell_type": "markdown",
   "metadata": {},
   "source": []
  }
 ],
 "metadata": {
  "language_info": {
   "name": "python"
  }
 },
 "nbformat": 4,
 "nbformat_minor": 2
}
