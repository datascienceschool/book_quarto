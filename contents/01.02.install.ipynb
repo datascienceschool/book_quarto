{
 "cells": [
  {
   "cell_type": "markdown",
   "metadata": {},
   "source": [
    "# 콰르토 설치"
   ]
  },
  {
   "cell_type": "markdown",
   "metadata": {
    "vscode": {
     "languageId": "plaintext"
    }
   },
   "source": [
    "## 설치 프로그램 다운로드"
   ]
  },
  {
   "cell_type": "markdown",
   "metadata": {},
   "source": [
    "콰르토 설치 프로그램은 다음 웹사이트에서 다운로드 받을 수 있다.\n",
    "\n",
    "- <https://quarto.org/docs/get-started/>"
   ]
  },
  {
   "cell_type": "markdown",
   "metadata": {},
   "source": [
    "## 확장 프로그램\n"
   ]
  },
  {
   "cell_type": "markdown",
   "metadata": {},
   "source": [
    "콰르토의 입력 정보인 콰르토 마크다운 파일은 텍스트 파일이므로 텍스트 편집을 위한 프로그램이 필요하다.\n",
    "\n",
    "콰르토는 파이썬이나 R 코드를 삽입하고 실행하는데 최적화되어 있으므로 텍스트 에디터 대신 프로그램 작성에 사용되는 VS Code, JupyterLab, RStudio 등의 통합개발환경을 사용할 수도 있다. 이러한 통합개발환경의 경우 콰르토 마크다운 파일 편집을 위한 확장 기능을 제공한다."
   ]
  },
  {
   "cell_type": "markdown",
   "metadata": {},
   "source": []
  }
 ],
 "metadata": {
  "language_info": {
   "name": "python"
  }
 },
 "nbformat": 4,
 "nbformat_minor": 2
}
