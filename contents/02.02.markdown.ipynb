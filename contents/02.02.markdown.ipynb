{
 "cells": [
  {
   "cell_type": "markdown",
   "metadata": {},
   "source": [
    "# 콰르토 마크다운"
   ]
  },
  {
   "cell_type": "markdown",
   "metadata": {},
   "source": [
    "콰르토의 기본 입력파일 형식은 `.qmd` 확장자를 가지는 콰르토 마크다운 형식이다. \n",
    "콰르토 마크다운은 기본적인 마크다운을 확장하여 다양한 기즌을 추가하였다."
   ]
  },
  {
   "cell_type": "markdown",
   "metadata": {},
   "source": [
    "```{.markdown filename=\"sample001.qmd 코드\"}\n",
    "{{< include ../samples/ch01/sample001.qmd >}}\n",
    "```\n"
   ]
  },
  {
   "cell_type": "markdown",
   "metadata": {},
   "source": [
    "::: {.markdown-render}\n",
    ":::: {.markdown-render-header} \n",
    "sample001.qmd 변환결과 \n",
    "::::\n",
    ":::: {.markdown-render-container} \n",
    "{{< include ../samples/ch01/sample001.qmd >}}\n",
    "::::\n",
    ":::"
   ]
  },
  {
   "cell_type": "markdown",
   "metadata": {},
   "source": []
  },
  {
   "cell_type": "markdown",
   "metadata": {},
   "source": []
  }
 ],
 "metadata": {
  "language_info": {
   "name": "python"
  }
 },
 "nbformat": 4,
 "nbformat_minor": 2
}
