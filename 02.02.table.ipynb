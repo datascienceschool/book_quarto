{
 "cells": [
  {
   "cell_type": "markdown",
   "metadata": {},
   "source": [
    "# 표"
   ]
  },
  {
   "cell_type": "markdown",
   "metadata": {},
   "source": [
    "콰르토 마크다운으로 표를 만드는 방법은 여러가지가 있으나 여기에서는 가장 많이 사용되는 **파이프(pipe)** 방식을 설명한다.\n",
    "파이프 방식은 표의 열을 구분하는데 파이프 기호(`|`)를 사용해서 붙여진 이름이다."
   ]
  },
  {
   "cell_type": "markdown",
   "metadata": {},
   "source": [
    "\n",
    "파이프 방식으로 표를 만드는 기본적인 방법은 다음과 같다.\n",
    "\n",
    "1. 세로선\n",
    "    - 파이프 기호(`|`)로 표의 세로선을 표시한다. \n",
    "    - 좌우의 가장자리 세로선은 생략해도 된다.\n",
    "    - 파이프 기호에 인접한 공백과 각 줄 가장자리의 공백은 무시된다.\n",
    "    - 파이프 기호의 세로 정렬 위치는 상관없다. \n",
    "1. 구분행\n",
    "    - 제목행과 본문행의 구분행에는 빼기 기호(`-`)를 사용한다\n",
    "    - 빼기 기호는 하나 이상 있어야 한다.\n",
    "1. 좌우정렬\n",
    "    - 구분행의 빼기 기호의 좌우에 콜론 기호(`:`)를 붙여 해당 열의 좌우 정렬을 지정할 수 있다.\n",
    "    - 콜론 기호가 왼쪽에 붙으면 왼쪽 정렬, 오른쪽이면 오른쪽 정렬, 양쪽에 붙으면 중앙정렬이다.\n",
    "    - 콜론 기호가 없으면 디폴트로 왼쪽 정렬이다.\n",
    "1. 제목\n",
    "    - 마지막에 콜론 기호로 시작하는 행을 붙여서 제목을 표시할 수 있다. \n",
    "    - 제목행은 표와 여러 줄 떨어져도 상관없다."
   ]
  },
  {
   "cell_type": "markdown",
   "metadata": {},
   "source": [
    "{{< partial mdsample.qmd filename=\"sample/c02/table/02_table_basic1.qmd\" ncol=1 >}}"
   ]
  },
  {
   "cell_type": "markdown",
   "metadata": {},
   "source": [
    "세로줄의 위치나 가장자리 공백 등은 영향을 미치지 않는다. 아래의 예제는 위의 예제와 동일하지만 일부러 보기 흉하게 정렬을 하지 않았다. 표 결과가 동일함을 알 수 있다."
   ]
  },
  {
   "cell_type": "markdown",
   "metadata": {},
   "source": [
    "{{< partial mdsample.qmd filename=\"sample/c02/table/02_table_basic2.qmd\" ncol=1 >}}"
   ]
  },
  {
   "cell_type": "markdown",
   "metadata": {},
   "source": [
    "내용 문자열을 넣지 않으면 제목행이 없어진다."
   ]
  },
  {
   "cell_type": "markdown",
   "metadata": {},
   "source": [
    "{{< partial mdsample.qmd filename=\"sample/c02/table/02_table_basic3.qmd\" ncol=1 >}}"
   ]
  },
  {
   "cell_type": "markdown",
   "metadata": {},
   "source": [
    "## 스타일 "
   ]
  },
  {
   "cell_type": "markdown",
   "metadata": {},
   "source": [
    "제목 문자열 뒤에 중괄호를 사용하여 다음과 같은 부트스트랩(Bootstrap) 스타일을 지정할 수 있다.\n",
    "다음은 전체 부트스트랩 스타일의 일부이다.\n",
    "\n",
    "- striped\n",
    "- hover\n",
    "- active\n",
    "- bordered\n",
    "- borderless\n",
    "- sm"
   ]
  },
  {
   "cell_type": "markdown",
   "metadata": {},
   "source": [
    "{{< partial mdsample.qmd filename=\"sample/c02/table/02_table_style.qmd\" ncol=1 >}}"
   ]
  },
  {
   "cell_type": "markdown",
   "metadata": {},
   "source": [
    "## 열 폭 조정"
   ]
  },
  {
   "cell_type": "markdown",
   "metadata": {},
   "source": [
    "제목 문자열 뒤의 중괄호에 `tbl-colwidths` 속성값으로 각 열의 폭을 조정할 수 있다.\n",
    "숫자는 각 열의 상대적인 크기를 나타낸다.\n",
    "이 숫자는 목표치일 뿐이며 표 내부의 문자열 크기, 마진, 패딩 등 여러가지 요소로 인해 정확한 비율을 가지지 못할 수 있다."
   ]
  },
  {
   "cell_type": "markdown",
   "metadata": {},
   "source": [
    "{{< partial mdsample.qmd filename=\"sample/c02/table/02_table_width.qmd\" ncol=1 >}}"
   ]
  },
  {
   "cell_type": "markdown",
   "metadata": {},
   "source": [
    "## 아이디와 라벨"
   ]
  },
  {
   "cell_type": "markdown",
   "metadata": {},
   "source": [
    "{{< partial mdsample.qmd filename=\"sample/c02/table/02_table_ref.qmd\" ncol=1 >}}"
   ]
  }
 ],
 "metadata": {
  "language_info": {
   "name": "python"
  }
 },
 "nbformat": 4,
 "nbformat_minor": 2
}
