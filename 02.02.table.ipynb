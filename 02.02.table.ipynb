{
 "cells": [
  {
   "cell_type": "markdown",
   "metadata": {},
   "source": [
    "# 표"
   ]
  },
  {
   "cell_type": "markdown",
   "metadata": {},
   "source": [
    "콰르토 마크다운으로 표를 만드는 방법은 여러가지가 있으나 여기에서는 가장 많이 사용되는 파이프(pipe) 방식을 설명한다."
   ]
  },
  {
   "cell_type": "markdown",
   "metadata": {},
   "source": [
    "{{< partial mdsample.qmd filename=\"samples/ch02/sec02/sample_02_02_01.qmd\" ncol=2 >}}"
   ]
  },
  {
   "cell_type": "markdown",
   "metadata": {},
   "source": []
  }
 ],
 "metadata": {
  "language_info": {
   "name": "python"
  }
 },
 "nbformat": 4,
 "nbformat_minor": 2
}
